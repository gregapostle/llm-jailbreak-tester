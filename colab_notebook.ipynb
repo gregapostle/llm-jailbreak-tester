{
 "cells": [
  {
   "cell_type": "code",
   "execution_count": null,
   "metadata": {
    "vscode": {
     "languageId": "plaintext"
    }
   },
   "outputs": [],
   "source": [
    "# Install required libraries\n",
    "!pip install -q transformers streamlit torch accelerate sentencepiece bitsandbytes ngrok\n",
    "\n",
    "# Download ngrok auth token (replace with your token)\n",
    "!ngrok config add-authtoken 2xv8e36fgilmn476IUgZ6trLqKj_7Ri4ZcvckRCYJe25ShHoD\n",
    "\n",
    "# Upload your project files (or clone from GitHub)\n",
    "!git clone https://github.com/gregapostle/llm-jailbreak-tester.git\n",
    "%cd llm-jailbreak-tester\n",
    "\n",
    "# Run Streamlit app via ngrok tunnel\n",
    "import threading\n",
    "import time\n",
    "import os\n",
    "\n",
    "def run_app():\n",
    "    os.system(\"streamlit run poke.py\")\n",
    "\n",
    "threading.Thread(target=run_app).start()\n",
    "time.sleep(10)  # Give time for server to start\n",
    "\n",
    "# Start ngrok tunnel\n",
    "!ngrok http 8501\n"
   ]
  }
 ],
 "metadata": {
  "language_info": {
   "name": "python"
  }
 },
 "nbformat": 4,
 "nbformat_minor": 2
}
